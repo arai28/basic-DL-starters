{
  "nbformat": 4,
  "nbformat_minor": 0,
  "metadata": {
    "colab": {
      "name": "mnist 8k param",
      "provenance": []
    },
    "kernelspec": {
      "name": "python3",
      "display_name": "Python 3"
    },
    "accelerator": "GPU"
  },
  "cells": [
    {
      "cell_type": "code",
      "metadata": {
        "id": "d5CO2AGNRQ8P",
        "colab_type": "code",
        "colab": {
          "base_uri": "https://localhost:8080/",
          "height": 34
        },
        "outputId": "defcc0f3-ff65-4d24-eede-22fecfd7e4ab"
      },
      "source": [
        "import numpy as np\n",
        "import tensorflow as tf\n",
        "import keras\n",
        "from tensorflow.keras.models import Sequential\n",
        "from tensorflow.keras.layers import Dense,Flatten,Softmax,Dropout,MaxPooling2D,Conv2D,BatchNormalization\n",
        "from tensorflow.keras.losses import SparseCategoricalCrossentropy\n",
        "from keras import backend as K\n",
        "\n",
        "dataset=keras.datasets.mnist"
      ],
      "execution_count": 1,
      "outputs": [
        {
          "output_type": "stream",
          "text": [
            "Using TensorFlow backend.\n"
          ],
          "name": "stderr"
        }
      ]
    },
    {
      "cell_type": "code",
      "metadata": {
        "id": "aWSTpwAgRy79",
        "colab_type": "code",
        "outputId": "044e2077-39b7-4137-b556-3b7da7fece8e",
        "colab": {
          "base_uri": "https://localhost:8080/",
          "height": 52
        }
      },
      "source": [
        "(train_img,train_label),(test_img,test_label)=dataset.load_data()"
      ],
      "execution_count": 2,
      "outputs": [
        {
          "output_type": "stream",
          "text": [
            "Downloading data from https://s3.amazonaws.com/img-datasets/mnist.npz\n",
            "11493376/11490434 [==============================] - 1s 0us/step\n"
          ],
          "name": "stdout"
        }
      ]
    },
    {
      "cell_type": "code",
      "metadata": {
        "id": "xJk8f4ujSIGN",
        "colab_type": "code",
        "colab": {}
      },
      "source": [
        "train_img=train_img/255.0\n",
        "test_img=test_img/255.0"
      ],
      "execution_count": 0,
      "outputs": []
    },
    {
      "cell_type": "code",
      "metadata": {
        "id": "jMbwxiwvw2It",
        "colab_type": "code",
        "colab": {}
      },
      "source": [
        "if K.image_data_format() == 'channels_first':\n",
        "    train_img = train_img.reshape(train_img.shape[0], 1, 28, 28)\n",
        "    test_img = test_img.reshape(test_img.shape[0], 1, 28, 28)\n",
        "    input_shape = (1, 28, 28)\n",
        "else:\n",
        "    train_img = train_img.reshape(train_img.shape[0], 28, 28, 1)\n",
        "    test_img = test_img.reshape(test_img.shape[0], 28, 28, 1)\n",
        "    input_shape = (28, 28, 1)"
      ],
      "execution_count": 0,
      "outputs": []
    },
    {
      "cell_type": "code",
      "metadata": {
        "id": "-MHpghFHx-Lj",
        "colab_type": "code",
        "colab": {
          "base_uri": "https://localhost:8080/",
          "height": 34
        },
        "outputId": "44d5cf4f-d98a-4c67-e1f6-2fc7ff177273"
      },
      "source": [
        "input_shape"
      ],
      "execution_count": 251,
      "outputs": [
        {
          "output_type": "execute_result",
          "data": {
            "text/plain": [
              "(28, 28, 1)"
            ]
          },
          "metadata": {
            "tags": []
          },
          "execution_count": 251
        }
      ]
    },
    {
      "cell_type": "code",
      "metadata": {
        "id": "caKtuZUlFt11",
        "colab_type": "code",
        "colab": {
          "base_uri": "https://localhost:8080/",
          "height": 686
        },
        "outputId": "0f604d3d-67c5-4401-b21d-a305b5590b4d"
      },
      "source": [
        "model5=Sequential()\n",
        "model5.add(Conv2D(7,kernel_size=3,activation='relu',input_shape=(28,28,1)))\n",
        "model5.add(BatchNormalization())\n",
        "model5.add(Conv2D(8,kernel_size=3,activation='relu'))\n",
        "model5.add(BatchNormalization())\n",
        "model5.add(Conv2D(4,kernel_size=5,strides=2,padding='same',activation='relu'))\n",
        "model5.add(BatchNormalization())\n",
        "# model5.add(Dropout(0.4))\n",
        "\n",
        "model5.add(Conv2D(16,kernel_size=3,activation='relu'))\n",
        "model5.add(BatchNormalization())\n",
        "model5.add(Conv2D(8,kernel_size=3,activation='relu'))\n",
        "model5.add(BatchNormalization())\n",
        "model5.add(Conv2D(13,kernel_size=5,strides=2,padding='same',activation='relu'))\n",
        "model5.add(BatchNormalization())\n",
        "model5.add(Dropout(0.4))\n",
        "\n",
        "model5.add(Flatten())\n",
        "# model5.add(Dense(128, activation='relu'))\n",
        "# model5.add(BatchNormalization())\n",
        "# model5.add(Dropout(0.4))\n",
        "model5.add(Dense(10, activation='softmax'))\n",
        "\n",
        "model5.compile(optimizer=\"adam\", loss=\"categorical_crossentropy\", metrics=[\"accuracy\"])\n",
        "model5.summary()"
      ],
      "execution_count": 68,
      "outputs": [
        {
          "output_type": "stream",
          "text": [
            "Model: \"sequential_43\"\n",
            "_________________________________________________________________\n",
            "Layer (type)                 Output Shape              Param #   \n",
            "=================================================================\n",
            "conv2d_122 (Conv2D)          (None, 26, 26, 7)         70        \n",
            "_________________________________________________________________\n",
            "batch_normalization_57 (Batc (None, 26, 26, 7)         28        \n",
            "_________________________________________________________________\n",
            "conv2d_123 (Conv2D)          (None, 24, 24, 8)         512       \n",
            "_________________________________________________________________\n",
            "batch_normalization_58 (Batc (None, 24, 24, 8)         32        \n",
            "_________________________________________________________________\n",
            "conv2d_124 (Conv2D)          (None, 12, 12, 4)         804       \n",
            "_________________________________________________________________\n",
            "batch_normalization_59 (Batc (None, 12, 12, 4)         16        \n",
            "_________________________________________________________________\n",
            "conv2d_125 (Conv2D)          (None, 10, 10, 16)        592       \n",
            "_________________________________________________________________\n",
            "batch_normalization_60 (Batc (None, 10, 10, 16)        64        \n",
            "_________________________________________________________________\n",
            "conv2d_126 (Conv2D)          (None, 8, 8, 8)           1160      \n",
            "_________________________________________________________________\n",
            "batch_normalization_61 (Batc (None, 8, 8, 8)           32        \n",
            "_________________________________________________________________\n",
            "conv2d_127 (Conv2D)          (None, 4, 4, 13)          2613      \n",
            "_________________________________________________________________\n",
            "batch_normalization_62 (Batc (None, 4, 4, 13)          52        \n",
            "_________________________________________________________________\n",
            "dropout_22 (Dropout)         (None, 4, 4, 13)          0         \n",
            "_________________________________________________________________\n",
            "flatten_43 (Flatten)         (None, 208)               0         \n",
            "_________________________________________________________________\n",
            "dense_46 (Dense)             (None, 10)                2090      \n",
            "=================================================================\n",
            "Total params: 8,065\n",
            "Trainable params: 7,953\n",
            "Non-trainable params: 112\n",
            "_________________________________________________________________\n"
          ],
          "name": "stdout"
        }
      ]
    },
    {
      "cell_type": "code",
      "metadata": {
        "id": "UgZe0xLnDKlc",
        "colab_type": "code",
        "colab": {}
      },
      "source": [
        "model5.compile(loss=SparseCategoricalCrossentropy(from_logits=False),\n",
        "               optimizer='sgd',\n",
        "               metrics=['accuracy'])"
      ],
      "execution_count": 0,
      "outputs": []
    },
    {
      "cell_type": "code",
      "metadata": {
        "id": "XNIo8QfJCz79",
        "colab_type": "code",
        "colab": {
          "base_uri": "https://localhost:8080/",
          "height": 1000
        },
        "outputId": "e0ef53d7-a7d2-4cbf-a187-45ce14f1f3b6"
      },
      "source": [
        "dims=train_img.shape\n",
        "train_img=train_img.reshape(dims[0],dims[1],dims[2],1)\n",
        "\n",
        "dims=test_img.shape\n",
        "test_img=test_img.reshape(dims[0],dims[1],dims[2],1)\n",
        "# print(dims)\n",
        "model5.fit(train_img,train_label,epochs=30,validation_split=0.2)"
      ],
      "execution_count": 72,
      "outputs": [
        {
          "output_type": "stream",
          "text": [
            "Epoch 1/30\n",
            "1500/1500 [==============================] - 11s 7ms/step - loss: 0.0295 - accuracy: 0.9898 - val_loss: 0.0370 - val_accuracy: 0.9877\n",
            "Epoch 2/30\n",
            "1500/1500 [==============================] - 11s 7ms/step - loss: 0.0273 - accuracy: 0.9909 - val_loss: 0.0348 - val_accuracy: 0.9893\n",
            "Epoch 3/30\n",
            "1500/1500 [==============================] - 11s 7ms/step - loss: 0.0274 - accuracy: 0.9907 - val_loss: 0.0324 - val_accuracy: 0.9913\n",
            "Epoch 4/30\n",
            "1500/1500 [==============================] - 11s 7ms/step - loss: 0.0258 - accuracy: 0.9913 - val_loss: 0.0345 - val_accuracy: 0.9902\n",
            "Epoch 5/30\n",
            "1500/1500 [==============================] - 11s 7ms/step - loss: 0.0264 - accuracy: 0.9913 - val_loss: 0.0333 - val_accuracy: 0.9908\n",
            "Epoch 6/30\n",
            "1500/1500 [==============================] - 11s 7ms/step - loss: 0.0264 - accuracy: 0.9915 - val_loss: 0.0351 - val_accuracy: 0.9902\n",
            "Epoch 7/30\n",
            "1500/1500 [==============================] - 11s 7ms/step - loss: 0.0260 - accuracy: 0.9914 - val_loss: 0.0338 - val_accuracy: 0.9900\n",
            "Epoch 8/30\n",
            "1500/1500 [==============================] - 11s 7ms/step - loss: 0.0250 - accuracy: 0.9915 - val_loss: 0.0332 - val_accuracy: 0.9906\n",
            "Epoch 9/30\n",
            "1500/1500 [==============================] - 11s 7ms/step - loss: 0.0243 - accuracy: 0.9920 - val_loss: 0.0330 - val_accuracy: 0.9907\n",
            "Epoch 10/30\n",
            "1500/1500 [==============================] - 11s 7ms/step - loss: 0.0257 - accuracy: 0.9920 - val_loss: 0.0344 - val_accuracy: 0.9905\n",
            "Epoch 11/30\n",
            "1500/1500 [==============================] - 11s 7ms/step - loss: 0.0244 - accuracy: 0.9917 - val_loss: 0.0347 - val_accuracy: 0.9903\n",
            "Epoch 12/30\n",
            "1500/1500 [==============================] - 11s 7ms/step - loss: 0.0243 - accuracy: 0.9920 - val_loss: 0.0373 - val_accuracy: 0.9898\n",
            "Epoch 13/30\n",
            "1500/1500 [==============================] - 11s 7ms/step - loss: 0.0235 - accuracy: 0.9919 - val_loss: 0.0343 - val_accuracy: 0.9905\n",
            "Epoch 14/30\n",
            "1500/1500 [==============================] - 11s 7ms/step - loss: 0.0249 - accuracy: 0.9916 - val_loss: 0.0343 - val_accuracy: 0.9909\n",
            "Epoch 15/30\n",
            "1500/1500 [==============================] - 11s 7ms/step - loss: 0.0237 - accuracy: 0.9922 - val_loss: 0.0330 - val_accuracy: 0.9910\n",
            "Epoch 16/30\n",
            "1500/1500 [==============================] - 11s 7ms/step - loss: 0.0222 - accuracy: 0.9928 - val_loss: 0.0365 - val_accuracy: 0.9902\n",
            "Epoch 17/30\n",
            "1500/1500 [==============================] - 11s 7ms/step - loss: 0.0213 - accuracy: 0.9927 - val_loss: 0.0354 - val_accuracy: 0.9902\n",
            "Epoch 18/30\n",
            "1500/1500 [==============================] - 11s 8ms/step - loss: 0.0210 - accuracy: 0.9926 - val_loss: 0.0364 - val_accuracy: 0.9899\n",
            "Epoch 19/30\n",
            "1500/1500 [==============================] - 11s 8ms/step - loss: 0.0203 - accuracy: 0.9930 - val_loss: 0.0340 - val_accuracy: 0.9906\n",
            "Epoch 20/30\n",
            "1500/1500 [==============================] - 11s 7ms/step - loss: 0.0210 - accuracy: 0.9930 - val_loss: 0.0337 - val_accuracy: 0.9904\n",
            "Epoch 21/30\n",
            "1500/1500 [==============================] - 11s 7ms/step - loss: 0.0206 - accuracy: 0.9929 - val_loss: 0.0357 - val_accuracy: 0.9903\n",
            "Epoch 22/30\n",
            "1500/1500 [==============================] - 11s 7ms/step - loss: 0.0210 - accuracy: 0.9926 - val_loss: 0.0333 - val_accuracy: 0.9906\n",
            "Epoch 23/30\n",
            "1500/1500 [==============================] - 11s 7ms/step - loss: 0.0191 - accuracy: 0.9936 - val_loss: 0.0477 - val_accuracy: 0.9881\n",
            "Epoch 24/30\n",
            "1500/1500 [==============================] - 11s 7ms/step - loss: 0.0198 - accuracy: 0.9931 - val_loss: 0.0363 - val_accuracy: 0.9896\n",
            "Epoch 25/30\n",
            "1500/1500 [==============================] - 11s 7ms/step - loss: 0.0195 - accuracy: 0.9934 - val_loss: 0.0339 - val_accuracy: 0.9906\n",
            "Epoch 26/30\n",
            "1500/1500 [==============================] - 11s 7ms/step - loss: 0.0198 - accuracy: 0.9933 - val_loss: 0.0371 - val_accuracy: 0.9899\n",
            "Epoch 27/30\n",
            "1500/1500 [==============================] - 11s 7ms/step - loss: 0.0182 - accuracy: 0.9939 - val_loss: 0.0345 - val_accuracy: 0.9911\n",
            "Epoch 28/30\n",
            "1500/1500 [==============================] - 11s 7ms/step - loss: 0.0182 - accuracy: 0.9939 - val_loss: 0.0359 - val_accuracy: 0.9908\n",
            "Epoch 29/30\n",
            "1500/1500 [==============================] - 11s 7ms/step - loss: 0.0176 - accuracy: 0.9940 - val_loss: 0.0350 - val_accuracy: 0.9908\n",
            "Epoch 30/30\n",
            "1500/1500 [==============================] - 11s 7ms/step - loss: 0.0192 - accuracy: 0.9938 - val_loss: 0.0331 - val_accuracy: 0.9910\n"
          ],
          "name": "stdout"
        },
        {
          "output_type": "execute_result",
          "data": {
            "text/plain": [
              "<tensorflow.python.keras.callbacks.History at 0x7f3adfe4eb38>"
            ]
          },
          "metadata": {
            "tags": []
          },
          "execution_count": 72
        }
      ]
    },
    {
      "cell_type": "code",
      "metadata": {
        "id": "jHsMWLd-DIuw",
        "colab_type": "code",
        "colab": {
          "base_uri": "https://localhost:8080/",
          "height": 52
        },
        "outputId": "8d7b83c8-aa85-47d8-f5ca-f7e0d950f344"
      },
      "source": [
        "model5.evaluate(test_img,test_label)"
      ],
      "execution_count": 73,
      "outputs": [
        {
          "output_type": "stream",
          "text": [
            "313/313 [==============================] - 1s 3ms/step - loss: 0.0233 - accuracy: 0.9925\n"
          ],
          "name": "stdout"
        },
        {
          "output_type": "execute_result",
          "data": {
            "text/plain": [
              "[0.023255042731761932, 0.9925000071525574]"
            ]
          },
          "metadata": {
            "tags": []
          },
          "execution_count": 73
        }
      ]
    },
    {
      "cell_type": "code",
      "metadata": {
        "id": "fuWdfykfa7i0",
        "colab_type": "code",
        "colab": {}
      },
      "source": [
        ""
      ],
      "execution_count": 0,
      "outputs": []
    }
  ]
}